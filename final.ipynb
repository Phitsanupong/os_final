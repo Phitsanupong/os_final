{
  "nbformat": 4,
  "nbformat_minor": 0,
  "metadata": {
    "colab": {
      "provenance": [],
      "collapsed_sections": []
    },
    "kernelspec": {
      "name": "python3",
      "display_name": "Python 3"
    },
    "language_info": {
      "name": "python"
    }
  },
  "cells": [
    {
      "cell_type": "markdown",
      "source": [
        "**ชื่อ - นามสกุล:**พิศณุพงษ์  ชุ่มใจ๋\n",
        "\n",
        "**รหัส:**6304101351\n",
        "\n",
        "**กลุ่ม:**2"
      ],
      "metadata": {
        "id": "EmIOds_61bN5"
      }
    }
  ]
}